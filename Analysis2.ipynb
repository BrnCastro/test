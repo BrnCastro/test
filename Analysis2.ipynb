{
    "cells": [
        {
            "metadata": {},
            "cell_type": "code",
            "source": "\nimport os, types\nimport pandas as pd\nfrom botocore.client import Config\nimport ibm_boto3\n\ndef __iter__(self): return 0\n\n# @hidden_cell\n# The following code accesses a file in your IBM Cloud Object Storage. It includes your credentials.\n# You might want to remove those credentials before you share the notebook.\ncos_client = ibm_boto3.client(service_name='s3',\n    ibm_api_key_id='Ugj5ceWcnCf-YlFT-1uLqsWC3lEAV18_rzfndrFDnYbX',\n    ibm_auth_endpoint=\"https://iam.cloud.ibm.com/oidc/token\",\n    config=Config(signature_version='oauth'),\n    endpoint_url='https://s3.private.eu-de.cloud-object-storage.appdomain.cloud')\n\nbucket = 'hello-donotdelete-pr-0n1q3cqldzff3y'\nobject_key = 'Urlaub Brazil.xlsx'\n\nbody = cos_client.get_object(Bucket=bucket,Key=object_key)['Body']\n\ndf_data_0 = pd.read_excel(body.read())\ndf_data_0.head()\n",
            "execution_count": 3,
            "outputs": [
                {
                    "output_type": "execute_result",
                    "execution_count": 3,
                    "data": {
                        "text/plain": "  Unnamed: 0               Saida              chegada              saidav  \\\n0        HAM  2022-09-19 19:00:00 2022-09-20 04:20:00 2022-09-25 23:50:00   \n1        HAM  2022-09-19 18:00:00 2022-09-20 05:20:00 2022-09-25 23:50:00   \n2        HAM  2022-09-20 06:25:00 2022-09-20 16:55:00 2022-09-25 16:55:00   \n3        HAM  2022-09-21 06:05:00 2022-09-21 16:55:00 2022-09-25 16:55:00   \n4        HAM  2022-09-21 06:05:00 2022-09-21 16:55:00 2022-09-26 19:10:00   \n\n               chegav Ferias  preco        Unnamed: 7 Unnamed: 8  Unnamed: 9  \\\n0 2022-09-26 19:05:00      5  599.0   lufthansa&latam        NaN         NaN   \n1 2022-09-26 19:05:00      5  627.0  eurow&Latam&luft        NaN         NaN   \n2 2022-09-26 13:50:00      5  675.0         airfrance        NaN         NaN   \n3 2022-09-26 13:50:00      4  621.0         airfrance        NaN         NaN   \n4 2022-09-27 14:15:00      5  558.0     airfrance&klm        NaN         NaN   \n\n   Unnamed: 10 Unnamed: 11  \n0        937.0         NaN  \n1          NaN         NaN  \n2          NaN         NaN  \n3          NaN         NaN  \n4          NaN         NaN  ",
                        "text/html": "<div>\n<style scoped>\n    .dataframe tbody tr th:only-of-type {\n        vertical-align: middle;\n    }\n\n    .dataframe tbody tr th {\n        vertical-align: top;\n    }\n\n    .dataframe thead th {\n        text-align: right;\n    }\n</style>\n<table border=\"1\" class=\"dataframe\">\n  <thead>\n    <tr style=\"text-align: right;\">\n      <th></th>\n      <th>Unnamed: 0</th>\n      <th>Saida</th>\n      <th>chegada</th>\n      <th>saidav</th>\n      <th>chegav</th>\n      <th>Ferias</th>\n      <th>preco</th>\n      <th>Unnamed: 7</th>\n      <th>Unnamed: 8</th>\n      <th>Unnamed: 9</th>\n      <th>Unnamed: 10</th>\n      <th>Unnamed: 11</th>\n    </tr>\n  </thead>\n  <tbody>\n    <tr>\n      <th>0</th>\n      <td>HAM</td>\n      <td>2022-09-19 19:00:00</td>\n      <td>2022-09-20 04:20:00</td>\n      <td>2022-09-25 23:50:00</td>\n      <td>2022-09-26 19:05:00</td>\n      <td>5</td>\n      <td>599.0</td>\n      <td>lufthansa&amp;latam</td>\n      <td>NaN</td>\n      <td>NaN</td>\n      <td>937.0</td>\n      <td>NaN</td>\n    </tr>\n    <tr>\n      <th>1</th>\n      <td>HAM</td>\n      <td>2022-09-19 18:00:00</td>\n      <td>2022-09-20 05:20:00</td>\n      <td>2022-09-25 23:50:00</td>\n      <td>2022-09-26 19:05:00</td>\n      <td>5</td>\n      <td>627.0</td>\n      <td>eurow&amp;Latam&amp;luft</td>\n      <td>NaN</td>\n      <td>NaN</td>\n      <td>NaN</td>\n      <td>NaN</td>\n    </tr>\n    <tr>\n      <th>2</th>\n      <td>HAM</td>\n      <td>2022-09-20 06:25:00</td>\n      <td>2022-09-20 16:55:00</td>\n      <td>2022-09-25 16:55:00</td>\n      <td>2022-09-26 13:50:00</td>\n      <td>5</td>\n      <td>675.0</td>\n      <td>airfrance</td>\n      <td>NaN</td>\n      <td>NaN</td>\n      <td>NaN</td>\n      <td>NaN</td>\n    </tr>\n    <tr>\n      <th>3</th>\n      <td>HAM</td>\n      <td>2022-09-21 06:05:00</td>\n      <td>2022-09-21 16:55:00</td>\n      <td>2022-09-25 16:55:00</td>\n      <td>2022-09-26 13:50:00</td>\n      <td>4</td>\n      <td>621.0</td>\n      <td>airfrance</td>\n      <td>NaN</td>\n      <td>NaN</td>\n      <td>NaN</td>\n      <td>NaN</td>\n    </tr>\n    <tr>\n      <th>4</th>\n      <td>HAM</td>\n      <td>2022-09-21 06:05:00</td>\n      <td>2022-09-21 16:55:00</td>\n      <td>2022-09-26 19:10:00</td>\n      <td>2022-09-27 14:15:00</td>\n      <td>5</td>\n      <td>558.0</td>\n      <td>airfrance&amp;klm</td>\n      <td>NaN</td>\n      <td>NaN</td>\n      <td>NaN</td>\n      <td>NaN</td>\n    </tr>\n  </tbody>\n</table>\n</div>"
                    },
                    "metadata": {}
                }
            ]
        },
        {
            "metadata": {},
            "cell_type": "code",
            "source": "",
            "execution_count": null,
            "outputs": []
        },
        {
            "metadata": {},
            "cell_type": "code",
            "source": "",
            "execution_count": null,
            "outputs": []
        }
    ],
    "metadata": {
        "kernelspec": {
            "name": "python39",
            "display_name": "Python 3.9 with Spark",
            "language": "python3"
        },
        "language_info": {
            "name": "python",
            "version": "3.9.13",
            "mimetype": "text/x-python",
            "codemirror_mode": {
                "name": "ipython",
                "version": 3
            },
            "pygments_lexer": "ipython3",
            "nbconvert_exporter": "python",
            "file_extension": ".py"
        }
    },
    "nbformat": 4,
    "nbformat_minor": 1
}